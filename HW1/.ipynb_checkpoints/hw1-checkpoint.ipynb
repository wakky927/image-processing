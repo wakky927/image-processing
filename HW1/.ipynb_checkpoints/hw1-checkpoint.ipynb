{
 "cells": [
  {
   "cell_type": "markdown",
   "metadata": {
    "collapsed": true,
    "pycharm": {
     "name": "#%% md\n"
    }
   },
   "source": [
    "## 画像工学特論課題 1\n",
    "### フーリエ級数展開における有限項近似の誤差\n",
    "<div style=\"text-align: right\"> エネルギー環境システム専攻修士課程1年 26213167 </div>\n",
    "<div style=\"text-align: right\"> 和田拓弥 </div>"
   ]
  },
  {
   "cell_type": "markdown",
   "metadata": {
    "pycharm": {
     "name": "#%% md\n"
    }
   },
   "source": [
    "#### 関数 $ f(x) $ の有限区間の複素フーリエ級数展開を以下で定義する．"
   ]
  },
  {
   "cell_type": "markdown",
   "metadata": {},
   "source": [
    "$$\n",
    "f(x) = \\sum_{m=-\\infty}^{\\infty} F_{k_m}e^{ik_mx} \\\\\n",
    "F_{k_m} = \\frac{1}{2l}\\int_{-l}^{+l}f(x)e^{-ik_mx}dx, \\quad k_m = \\frac{m\\pi}{l}\n",
    "$$"
   ]
  },
  {
   "cell_type": "markdown",
   "metadata": {},
   "source": [
    "#### 以下の関数 $ f(x) $ について区間 $ [−1, +1] $ でのフーリエ級数表現を示しなさい．($ F_{k_m} $ を解析的(数学的)に求める)"
   ]
  },
  {
   "cell_type": "markdown",
   "metadata": {},
   "source": [
    "$$\n",
    "f(x) = \\left\\{\n",
    "\\begin{array}{ll}\n",
    "1 & (|x| \\lt 1/2) \\\\\n",
    "0 & (1/2 \\leq |x| \\lt 1)\n",
    "\\end{array}\n",
    "\\right.\n",
    "$$"
   ]
  },
  {
   "cell_type": "markdown",
   "metadata": {},
   "source": [
    "#### フーリエ級数展開の第$ M $次項までの有限項で打ち切った近似関数関数を $ f′_M (x) $ とする．\n"
   ]
  },
  {
   "cell_type": "markdown",
   "metadata": {},
   "source": [
    "$$\n",
    "f'_M(x) = \\sum_{m=-M}^{+M} F_{k_m}e^{ik_mx} \\\\\n",
    "$$"
   ]
  },
  {
   "cell_type": "markdown",
   "metadata": {},
   "source": [
    "#### 打ち切り次数$ M $が$ M = 0, 1, ... , 10 $のそれぞれの場合について，$ f′_M (x) $ を図示しなさい．"
   ]
  },
  {
   "cell_type": "code",
   "execution_count": 1,
   "metadata": {
    "pycharm": {
     "name": "#%%\n"
    }
   },
   "outputs": [
    {
     "name": "stdout",
     "output_type": "stream",
     "text": [
      "0\n"
     ]
    }
   ],
   "source": [
    "print(0)\n"
   ]
  }
 ],
 "metadata": {
  "kernelspec": {
   "display_name": "Python 3 (ipykernel)",
   "language": "python",
   "name": "python3"
  },
  "language_info": {
   "codemirror_mode": {
    "name": "ipython",
    "version": 3
   },
   "file_extension": ".py",
   "mimetype": "text/x-python",
   "name": "python",
   "nbconvert_exporter": "python",
   "pygments_lexer": "ipython3",
   "version": "3.7.11"
  }
 },
 "nbformat": 4,
 "nbformat_minor": 1
}
