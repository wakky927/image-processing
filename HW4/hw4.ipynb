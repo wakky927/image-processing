{
 "cells": [
  {
   "cell_type": "markdown",
   "metadata": {
    "collapsed": true,
    "pycharm": {
     "name": "#%% md\n"
    }
   },
   "source": [
    "## 画像工学特論課題 4\n",
    "### 正規乱数\n",
    "<div style=\"text-align: right\"> エネルギー環境システム専攻修士課程1年 26213167 </div>\n",
    "<div style=\"text-align: right\"> 和田拓弥 </div>"
   ]
  },
  {
   "cell_type": "markdown",
   "metadata": {},
   "source": [
    "#### 1. 一様乱数を用いて平均が0，標準偏差が10の正規乱数を生成するプログラムを作成しなさい．\n",
    "\n",
    "PythonのライブラリであるNumpyには，一様乱数を生成できる関数が存在する．\n",
    "\n",
    "`numpy.random.rand()`\n",
    "\n",
    "この関数を用いることで一様乱数 $X_u\\sim U[0, 1]$ を取得することができる．今回はこちらで生成した一様乱数を用いて以下の3種類の方法で正規乱数を生成した．\n",
    "\n",
    "- 一様乱数の和による乱数の生成\n",
    "- 座標変換による任意の確率分布\n",
    "- Box-Muller法による正規乱数"
   ]
  },
  {
   "cell_type": "code",
   "execution_count": 1,
   "metadata": {
    "pycharm": {
     "name": "#%%\n"
    }
   },
   "outputs": [],
   "source": [
    "# import library\n",
    "from matplotlib import pyplot as plt\n",
    "import numpy as np\n",
    "from scipy import special as sp\n",
    "import time\n",
    "\n",
    "# set seed\n",
    "np.random.seed(seed=0)"
   ]
  },
  {
   "cell_type": "markdown",
   "metadata": {
    "pycharm": {
     "name": "#%% md\n"
    }
   },
   "source": [
    "##### 一様乱数の和による乱数の生成\n",
    "\n",
    "$X_u\\sim U[0, 1]$ について"
   ]
  },
  {
   "cell_type": "markdown",
   "metadata": {},
   "source": [
    "$$\n",
    "\\overline{x_u} = \\int_{0}^{1}x_u dx_u = \\frac{1}{2}\\\\\n",
    "\\sigma^2_{x_u} = \\int_{0}^{1}(x_u - \\overline{x_u})^2 dx_u = \\overline{{x_u}^2} - \\overline{x_u}^2 = \\frac{1}{12}\n",
    "$$"
   ]
  },
  {
   "cell_type": "markdown",
   "metadata": {},
   "source": [
    "また，$X = \\sum_{n=1}^{N}X_u$ について"
   ]
  },
  {
   "cell_type": "markdown",
   "metadata": {},
   "source": [
    "$$\n",
    "\\overline{x} = \\sum_{n=1}^{N}\\overline{x_u} = \\frac{N}{2}\\\\\n",
    "\\sigma^2_{x} = \\sum_{n=1}^{N}\\sigma^2_{x_u} = \\frac{N}{12}\n",
    "$$"
   ]
  },
  {
   "cell_type": "markdown",
   "metadata": {
    "pycharm": {
     "name": "#%% md\n"
    }
   },
   "source": [
    "中心極限定理より，独立な同一の分布に従う確率変数の算術和は，正規分布に収束するため，$X\\sim N[\\bar{x}, \\sigma_{x}^2]$ である．平均が0，標準偏差が10の正規乱数を取得するには $N = 1200$ として，もとめた $X$ を0となるようにシフトさせれば良い．"
   ]
  },
  {
   "cell_type": "markdown",
   "metadata": {},
   "source": [
    "$$\n",
    "N[0, 10^2] = \\sum_{n=1}^{1200}X_{u} - 600\n",
    "$$"
   ]
  },
  {
   "cell_type": "code",
   "execution_count": 2,
   "metadata": {
    "pycharm": {
     "name": "#%%\n"
    }
   },
   "outputs": [],
   "source": [
    "def randn_1(mu, sigma):\n",
    "    rn = 0\n",
    "\n",
    "    for i in range(12*sigma**2):\n",
    "        rn += np.random.rand()\n",
    "\n",
    "    return rn - 6 * sigma**2 + mu"
   ]
  },
  {
   "cell_type": "markdown",
   "metadata": {
    "pycharm": {
     "name": "#%% md\n"
    }
   },
   "source": [
    "##### 座標変換による任意の確率分布\n",
    "\n",
    "$N[\\mu, \\sigma^2]$ を $p_y(y)$ とする．すなわち"
   ]
  },
  {
   "cell_type": "markdown",
   "metadata": {},
   "source": [
    "$$\n",
    "p_y(y) = \\frac{1}{\\sqrt{2\\pi}\\sigma}e^{-\\frac{(y-\\mu)^2}{2\\sigma^2}}\n",
    "$$"
   ]
  },
  {
   "cell_type": "markdown",
   "metadata": {},
   "source": [
    "これの逆変換を求めればよく，"
   ]
  },
  {
   "cell_type": "markdown",
   "metadata": {},
   "source": [
    "$$\n",
    "x =　\\frac{1}{\\sqrt{2\\pi}\\sigma}\\int e^{-\\frac{(y - \\mu)^2}{2\\sigma^2}}dy = \\frac{1}{2}\\lbrace1+\\mathrm{erf}(\\frac{y - \\mu}{\\sqrt{2}\\sigma})\\rbrace\\\\\n",
    "\\to y = \\mu + \\sqrt{2}\\sigma\\,\\mathrm{erf}^{-1}(2x - 1)\n",
    "$$"
   ]
  },
  {
   "cell_type": "markdown",
   "metadata": {},
   "source": [
    "本来誤差逆関数は用意には求められないが，PythonのライブラリであるScipyには，これをもとめる関数`scipy.special.erfinv()`が存在するため，これを利用する．"
   ]
  },
  {
   "cell_type": "code",
   "execution_count": 3,
   "metadata": {
    "pycharm": {
     "name": "#%%\n"
    }
   },
   "outputs": [],
   "source": [
    "def randn_2(mu, sigma):\n",
    "    return mu + np.sqrt(2) * sigma * sp.erfinv(2 * np.random.rand() - 1)"
   ]
  },
  {
   "cell_type": "markdown",
   "metadata": {},
   "source": [
    "##### Box-Muller法による正規乱数\n",
    "\n",
    "$x_1, x_2$ を独立な$U[0, 1]$ の一様乱数とする．このとき以下に示す変換式により求まる$y_1, y_2$ は $N[0, 1]$ の正規分布乱数となる．"
   ]
  },
  {
   "cell_type": "markdown",
   "metadata": {},
   "source": [
    "$$\n",
    "y_1 = \\sqrt{-2\\log{x_1}}\\cos(2\\pi x_2)\\\\\n",
    "y_2 = \\sqrt{-2\\log{x_1}}\\sin(2\\pi x_2)\n",
    "$$"
   ]
  },
  {
   "cell_type": "markdown",
   "metadata": {
    "pycharm": {
     "name": "#%% md\n"
    }
   },
   "source": [
    "これにより得られる $N[0, 1]$ を規格化の式で逆変換することで，任意の平均$\\mu$，分散 $\\sigma^2$ をもつ正規分布乱数を取得する．"
   ]
  },
  {
   "cell_type": "markdown",
   "source": [
    "$$\n",
    "Y = \\frac{X - \\mu}{\\sigma}\\\\\n",
    "\\rightarrow X = \\sigma Y + \\mu\n",
    "$$"
   ],
   "metadata": {
    "collapsed": false
   }
  },
  {
   "cell_type": "code",
   "execution_count": 4,
   "outputs": [],
   "source": [
    "def randn_3(mu, sigma):\n",
    "    x1 = np.random.rand()\n",
    "    x2 = np.random.rand()\n",
    "\n",
    "    y1 = np.sqrt(-2 * np.log(x1)) * np.cos(2 * np.pi * x2)\n",
    "    y2 = np.sqrt(-2 * np.log(x1)) * np.sin(2 * np.pi * x2)\n",
    "\n",
    "    return mu + sigma * y1, mu + sigma * y2"
   ],
   "metadata": {
    "collapsed": false,
    "pycharm": {
     "name": "#%%\n"
    }
   }
  },
  {
   "cell_type": "markdown",
   "metadata": {},
   "source": [
    "#### 2. 作成したプログラムにより10000個の乱数を発生し，その度数分布を図示しなさい．\n",
    "\n",
    "10000個の乱数を上記3種類の方法で生成させた結果を以下の図1に示す．"
   ]
  },
  {
   "cell_type": "code",
   "execution_count": 5,
   "outputs": [],
   "source": [
    "# generate randn\n",
    "randn1 = [randn_1(mu=0, sigma=10) for _ in range(10000)]\n",
    "randn2 = [randn_2(mu=0, sigma=10) for _ in range(10000)]\n",
    "randn3 = [randn_3(mu=0, sigma=10)[0] for _ in range(10000)]"
   ],
   "metadata": {
    "collapsed": false,
    "pycharm": {
     "name": "#%%\n"
    }
   }
  },
  {
   "cell_type": "code",
   "execution_count": 6,
   "outputs": [],
   "source": [
    "# set normal distribution\n",
    "x = np.linspace(-50, 50, 10000)\n",
    "y = 1 / 10 / np.sqrt(2 * np.pi) * np.exp(-1 / 2 * (x / 10)**2)"
   ],
   "metadata": {
    "collapsed": false,
    "pycharm": {
     "name": "#%%\n"
    }
   }
  },
  {
   "cell_type": "code",
   "execution_count": 7,
   "outputs": [
    {
     "data": {
      "text/plain": "<Figure size 1584x432 with 3 Axes>",
      "image/png": "[encoded data removed]"
     },
     "metadata": {
      "needs_background": "light"
     },
     "output_type": "display_data"
    }
   ],
   "source": [
    "# show results\n",
    "fig, axes = plt.subplots(nrows=1, ncols=3, sharex=False, figsize=(22.0, 6.0))\n",
    "plt.subplots_adjust(wspace=0.2)\n",
    "\n",
    "axes[0].set_title(\"Randn_1\")\n",
    "axes[0].set_xlabel(\"x\")\n",
    "axes[0].set_ylabel(\"y\")\n",
    "\n",
    "axes[1].set_title(\"Randn_2\")\n",
    "axes[1].set_xlabel(\"x\")\n",
    "axes[1].set_ylabel(\"y\")\n",
    "\n",
    "axes[2].set_title(\"Randn_3\")\n",
    "axes[2].set_xlabel(\"x\")\n",
    "axes[2].set_ylabel(\"y\")\n",
    "\n",
    "axes[0].hist(randn1, bins=50, range=(-50, 50), density=True)\n",
    "axes[1].hist(randn2, bins=50, range=(-50, 50), density=True)\n",
    "axes[2].hist(randn3, bins=50, range=(-50, 50), density=True)\n",
    "\n",
    "axes[0].plot(x, y, c='r', linewidth=3)\n",
    "axes[1].plot(x, y, c='r', linewidth=3)\n",
    "axes[2].plot(x, y, c='r', linewidth=3)\n",
    "\n",
    "plt.show()"
   ],
   "metadata": {
    "collapsed": false,
    "pycharm": {
     "name": "#%%\n"
    }
   }
  },
  {
   "cell_type": "markdown",
   "source": [
    "青は各関数で生成させた乱数のヒストグラムであり，赤は正規分布を示している．なおヒストグラムは面積の合計が1になるよう規格化した結果を示している．各結果にばらつきはあるものの，おおよそ正規分布に従った結果が得られた．"
   ],
   "metadata": {
    "collapsed": false,
    "pycharm": {
     "name": "#%% md\n"
    }
   }
  },
  {
   "cell_type": "markdown",
   "source": [
    "ここでパフォーマンスの比較について，演算処理に要する時間についても考える．"
   ],
   "metadata": {
    "collapsed": false,
    "pycharm": {
     "name": "#%% md\n"
    }
   }
  },
  {
   "cell_type": "code",
   "execution_count": 8,
   "outputs": [
    {
     "name": "stdout",
     "output_type": "stream",
     "text": [
      "3.6319 [sec]\n"
     ]
    }
   ],
   "source": [
    "start = time.time()\n",
    "_ = [randn_1(mu=0, sigma=10) for _ in range(10000)]\n",
    "p_time = time.time() - start\n",
    "\n",
    "print (f\"{p_time:.4f} [sec]\")"
   ],
   "metadata": {
    "collapsed": false,
    "pycharm": {
     "name": "#%%\n"
    }
   }
  },
  {
   "cell_type": "code",
   "execution_count": 9,
   "outputs": [
    {
     "name": "stdout",
     "output_type": "stream",
     "text": [
      "0.0223 [sec]\n"
     ]
    }
   ],
   "source": [
    "start = time.time()\n",
    "_ = [randn_2(mu=0, sigma=10) for _ in range(10000)]\n",
    "p_time = time.time() - start\n",
    "\n",
    "print (f\"{p_time:.4f} [sec]\")"
   ],
   "metadata": {
    "collapsed": false,
    "pycharm": {
     "name": "#%%\n"
    }
   }
  },
  {
   "cell_type": "code",
   "execution_count": 10,
   "outputs": [
    {
     "name": "stdout",
     "output_type": "stream",
     "text": [
      "0.0609 [sec]\n"
     ]
    }
   ],
   "source": [
    "start = time.time()\n",
    "_ = [randn_3(mu=0, sigma=10) for _ in range(10000)]\n",
    "p_time = time.time() - start\n",
    "\n",
    "print (f\"{p_time:.4f} [sec]\")"
   ],
   "metadata": {
    "collapsed": false,
    "pycharm": {
     "name": "#%%\n"
    }
   }
  },
  {
   "cell_type": "markdown",
   "source": [
    "結果から「座標変換による任意の確率分布」の方法が一番処理時間を要しないことが分かった．ここで「一様乱数の和による乱数の生成」に，多くの処理時間を要した原因について，一回生成するごとにループが生じるため処理負荷が増大してしまった事が考えられる．"
   ],
   "metadata": {
    "collapsed": false,
    "pycharm": {
     "name": "#%% md\n"
    }
   }
  },
  {
   "cell_type": "markdown",
   "metadata": {},
   "source": [
    "#### 3. 乱数の発生個数Nを変えながら，その平均と標準偏差の変化を図示しなさい．"
   ]
  },
  {
   "cell_type": "markdown",
   "source": [
    "ここからは「座標変換による任意の確率分布」によって生成される乱数について扱うものとする．生成個数を $N = 10^1, 10^2, 10^3, 10^4, 10^5, 10^6, 10^7, 10^8$ と変化させ，生成させた乱数の平均及び標準偏差の設定値からの差が，それぞれどのように変化するかを調べる．"
   ],
   "metadata": {
    "collapsed": false,
    "pycharm": {
     "name": "#%% md\n"
    }
   }
  },
  {
   "cell_type": "code",
   "execution_count": 11,
   "metadata": {
    "pycharm": {
     "name": "#%%\n"
    }
   },
   "outputs": [],
   "source": [
    "# generate randn & calc diff\n",
    "n_list = []\n",
    "mu_diff = []\n",
    "sg_diff = []\n",
    "\n",
    "for n in range(1, 9):\n",
    "    n_list.append(10**n)\n",
    "    mu_diff.append(np.abs(np.mean([randn_2(mu=0, sigma=10) for _ in range(10**n)])))\n",
    "    sg_diff.append(np.abs(10 - np.std([randn_2(mu=0, sigma=10) for _ in range(10**n)])))"
   ]
  },
  {
   "cell_type": "code",
   "execution_count": 12,
   "outputs": [
    {
     "data": {
      "text/plain": "<Figure size 864x720 with 1 Axes>",
      "image/png": "[encoded data removed]"
     },
     "metadata": {
      "needs_background": "light"
     },
     "output_type": "display_data"
    }
   ],
   "source": [
    "# show results\n",
    "fig, ax = plt.subplots(figsize=(12, 10))\n",
    "\n",
    "ax.set_xlabel(\"N\")\n",
    "ax.set_ylabel(\"diff\")\n",
    "ax.set_xscale('log')\n",
    "ax.set_yscale('log')\n",
    "\n",
    "plt.plot(n_list, mu_diff, marker=\"o\", label=\"mean_diff\")\n",
    "plt.plot(n_list, sg_diff, marker=\"o\", label=\"sd_diff\")\n",
    "\n",
    "plt.grid(which=\"both\")\n",
    "plt.legend(loc='upper right')\n",
    "\n",
    "plt.show()"
   ],
   "metadata": {
    "collapsed": false,
    "pycharm": {
     "name": "#%%\n"
    }
   }
  },
  {
   "cell_type": "markdown",
   "source": [
    "上図は生成させた乱数の平均及び標準偏差の設定値からの差についてをそれぞれ両対数グラフで示したものである．結果から生成個数の増加に伴い，設定値との差が小さくなることがグラフから明らかである．またこの減少傾向は指数的に変化することが読み取れ，平均及び標準偏差は同程度の変化量で設定値に近づいていく様子が明らかとなった．\n"
   ],
   "metadata": {
    "collapsed": false,
    "pycharm": {
     "name": "#%% md\n"
    }
   }
  }
 ],
 "metadata": {
  "kernelspec": {
   "display_name": "Python 3 (ipykernel)",
   "language": "python",
   "name": "python3"
  },
  "language_info": {
   "codemirror_mode": {
    "name": "ipython",
    "version": 3
   },
   "file_extension": ".py",
   "mimetype": "text/x-python",
   "name": "python",
   "nbconvert_exporter": "python",
   "pygments_lexer": "ipython3",
   "version": "3.7.11"
  }
 },
 "nbformat": 4,
 "nbformat_minor": 1
}