{
 "cells": [
  {
   "cell_type": "markdown",
   "metadata": {
    "collapsed": true,
    "pycharm": {
     "name": "#%% md\n"
    }
   },
   "source": [
    "## 画像工学特論課題 4\n",
    "### 正規乱数\n",
    "<div style=\"text-align: right\"> エネルギー環境システム専攻修士課程1年 26213167 </div>\n",
    "<div style=\"text-align: right\"> 和田拓弥 </div>"
   ]
  },
  {
   "cell_type": "markdown",
   "metadata": {},
   "source": [
    "#### 1. 一様乱数を用いて平均が0，標準偏差が10の正規乱数を生成するプログラムを作成しなさい．\n",
    "\n",
    "PythonのライブラリであるNumpyには，一様乱数を生成できる関数が存在する．\n",
    "\n",
    "`numpy.random.rand()`\n",
    "\n",
    "この関数を用いることで0以上，1未満の一様乱数を取得することができる．今回はこちらで生成した一様乱数を用いて以下の3種類の方法で正規乱数を生成した．\n",
    "\n",
    "- 一様乱数の和による乱数の生成\n",
    "- 座標変換による任意の確率分布\n",
    "- Box-Muller法による正規乱数"
   ]
  },
  {
   "cell_type": "code",
   "execution_count": null,
   "metadata": {
    "pycharm": {
     "name": "#%%\n"
    }
   },
   "outputs": [],
   "source": [
    "# import library\n",
    "import numpy as np\n",
    "from matplotlib import pyplot as plt"
   ]
  },
  {
   "cell_type": "markdown",
   "metadata": {
    "pycharm": {
     "name": "#%% md\n"
    }
   },
   "source": [
    "##### 一様乱数の和による乱数の生成"
   ]
  },
  {
   "cell_type": "markdown",
   "metadata": {},
   "source": [
    "#### 2. 作成したプログラムにより10000個の乱数を発生し，その度数分布を図示しなさい．"
   ]
  },
  {
   "cell_type": "code",
   "execution_count": null,
   "metadata": {
    "pycharm": {
     "name": "#%%\n"
    }
   },
   "outputs": [],
   "source": []
  },
  {
   "cell_type": "markdown",
   "metadata": {},
   "source": [
    "#### 3. 乱数の発生個数Nを変えながら，その平均と標準偏差の変化を図示しなさい．"
   ]
  },
  {
   "cell_type": "code",
   "execution_count": null,
   "metadata": {
    "pycharm": {
     "name": "#%%\n"
    }
   },
   "outputs": [],
   "source": []
  }
 ],
 "metadata": {
  "kernelspec": {
   "display_name": "Python 3 (ipykernel)",
   "language": "python",
   "name": "python3"
  },
  "language_info": {
   "codemirror_mode": {
    "name": "ipython",
    "version": 3
   },
   "file_extension": ".py",
   "mimetype": "text/x-python",
   "name": "python",
   "nbconvert_exporter": "python",
   "pygments_lexer": "ipython3",
   "version": "3.7.11"
  }
 },
 "nbformat": 4,
 "nbformat_minor": 1
}
